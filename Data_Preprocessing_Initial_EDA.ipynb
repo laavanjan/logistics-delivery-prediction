{
  "cells": [
    {
      "cell_type": "code",
      "execution_count": 2,
      "id": "47cc3900-aa90-44a0-8f7b-f925a2062f3e",
      "metadata": {
        "id": "47cc3900-aa90-44a0-8f7b-f925a2062f3e"
      },
      "outputs": [],
      "source": [
        "import pandas as pd\n",
        "import numpy as np\n",
        "import matplotlib.pyplot as plt\n",
        "import seaborn as sns\n",
        "\n",
        "df = pd.read_csv('delhivery.csv')\n"
      ]
    },
    {
      "cell_type": "code",
      "execution_count": 3,
      "id": "6721e161-0c3d-4975-a339-515415037a8b",
      "metadata": {
        "id": "6721e161-0c3d-4975-a339-515415037a8b",
        "outputId": "e6a072d8-7b34-407a-8492-d6b2129c8d40"
      },
      "outputs": [
        {
          "name": "stdout",
          "output_type": "stream",
          "text": [
            "First 5 Rows:\n",
            "       data          trip_creation_time  \\\n",
            "0  training  2018-09-20 02:35:36.476840   \n",
            "1  training  2018-09-20 02:35:36.476840   \n",
            "2  training  2018-09-20 02:35:36.476840   \n",
            "3  training  2018-09-20 02:35:36.476840   \n",
            "4  training  2018-09-20 02:35:36.476840   \n",
            "\n",
            "                                 route_schedule_uuid route_type  \\\n",
            "0  thanos::sroute:eb7bfc78-b351-4c0e-a951-fa3d5c3...    Carting   \n",
            "1  thanos::sroute:eb7bfc78-b351-4c0e-a951-fa3d5c3...    Carting   \n",
            "2  thanos::sroute:eb7bfc78-b351-4c0e-a951-fa3d5c3...    Carting   \n",
            "3  thanos::sroute:eb7bfc78-b351-4c0e-a951-fa3d5c3...    Carting   \n",
            "4  thanos::sroute:eb7bfc78-b351-4c0e-a951-fa3d5c3...    Carting   \n",
            "\n",
            "                 trip_uuid source_center                 source_name  \\\n",
            "0  trip-153741093647649320  IND388121AAA  Anand_VUNagar_DC (Gujarat)   \n",
            "1  trip-153741093647649320  IND388121AAA  Anand_VUNagar_DC (Gujarat)   \n",
            "2  trip-153741093647649320  IND388121AAA  Anand_VUNagar_DC (Gujarat)   \n",
            "3  trip-153741093647649320  IND388121AAA  Anand_VUNagar_DC (Gujarat)   \n",
            "4  trip-153741093647649320  IND388121AAA  Anand_VUNagar_DC (Gujarat)   \n",
            "\n",
            "  destination_center               destination_name  \\\n",
            "0       IND388620AAB  Khambhat_MotvdDPP_D (Gujarat)   \n",
            "1       IND388620AAB  Khambhat_MotvdDPP_D (Gujarat)   \n",
            "2       IND388620AAB  Khambhat_MotvdDPP_D (Gujarat)   \n",
            "3       IND388620AAB  Khambhat_MotvdDPP_D (Gujarat)   \n",
            "4       IND388620AAB  Khambhat_MotvdDPP_D (Gujarat)   \n",
            "\n",
            "                od_start_time  ...            cutoff_timestamp  \\\n",
            "0  2018-09-20 03:21:32.418600  ...         2018-09-20 04:27:55   \n",
            "1  2018-09-20 03:21:32.418600  ...         2018-09-20 04:17:55   \n",
            "2  2018-09-20 03:21:32.418600  ...  2018-09-20 04:01:19.505586   \n",
            "3  2018-09-20 03:21:32.418600  ...         2018-09-20 03:39:57   \n",
            "4  2018-09-20 03:21:32.418600  ...         2018-09-20 03:33:55   \n",
            "\n",
            "   actual_distance_to_destination  actual_time  osrm_time osrm_distance  \\\n",
            "0                       10.435660         14.0       11.0       11.9653   \n",
            "1                       18.936842         24.0       20.0       21.7243   \n",
            "2                       27.637279         40.0       28.0       32.5395   \n",
            "3                       36.118028         62.0       40.0       45.5620   \n",
            "4                       39.386040         68.0       44.0       54.2181   \n",
            "\n",
            "     factor  segment_actual_time  segment_osrm_time  segment_osrm_distance  \\\n",
            "0  1.272727                 14.0               11.0                11.9653   \n",
            "1  1.200000                 10.0                9.0                 9.7590   \n",
            "2  1.428571                 16.0                7.0                10.8152   \n",
            "3  1.550000                 21.0               12.0                13.0224   \n",
            "4  1.545455                  6.0                5.0                 3.9153   \n",
            "\n",
            "   segment_factor  \n",
            "0        1.272727  \n",
            "1        1.111111  \n",
            "2        2.285714  \n",
            "3        1.750000  \n",
            "4        1.200000  \n",
            "\n",
            "[5 rows x 24 columns]\n"
          ]
        }
      ],
      "source": [
        "print(\"First 5 Rows:\")\n",
        "print(df.head())"
      ]
    },
    {
      "cell_type": "code",
      "execution_count": 4,
      "id": "70e89e2c-b06d-4105-b614-95f7c115885d",
      "metadata": {
        "id": "70e89e2c-b06d-4105-b614-95f7c115885d",
        "outputId": "53cbf8d6-cf96-4507-8f8d-ee112256d8fc"
      },
      "outputs": [
        {
          "name": "stdout",
          "output_type": "stream",
          "text": [
            "\n",
            "Last 5 Rows:\n",
            "            data          trip_creation_time  \\\n",
            "144862  training  2018-09-20 16:24:28.436231   \n",
            "144863  training  2018-09-20 16:24:28.436231   \n",
            "144864  training  2018-09-20 16:24:28.436231   \n",
            "144865  training  2018-09-20 16:24:28.436231   \n",
            "144866  training  2018-09-20 16:24:28.436231   \n",
            "\n",
            "                                      route_schedule_uuid route_type  \\\n",
            "144862  thanos::sroute:f0569d2f-4e20-4c31-8542-67b86d5...    Carting   \n",
            "144863  thanos::sroute:f0569d2f-4e20-4c31-8542-67b86d5...    Carting   \n",
            "144864  thanos::sroute:f0569d2f-4e20-4c31-8542-67b86d5...    Carting   \n",
            "144865  thanos::sroute:f0569d2f-4e20-4c31-8542-67b86d5...    Carting   \n",
            "144866  thanos::sroute:f0569d2f-4e20-4c31-8542-67b86d5...    Carting   \n",
            "\n",
            "                      trip_uuid source_center                 source_name  \\\n",
            "144862  trip-153746066843555182  IND131028AAB  Sonipat_Kundli_H (Haryana)   \n",
            "144863  trip-153746066843555182  IND131028AAB  Sonipat_Kundli_H (Haryana)   \n",
            "144864  trip-153746066843555182  IND131028AAB  Sonipat_Kundli_H (Haryana)   \n",
            "144865  trip-153746066843555182  IND131028AAB  Sonipat_Kundli_H (Haryana)   \n",
            "144866  trip-153746066843555182  IND131028AAB  Sonipat_Kundli_H (Haryana)   \n",
            "\n",
            "       destination_center               destination_name  \\\n",
            "144862       IND000000ACB  Gurgaon_Bilaspur_HB (Haryana)   \n",
            "144863       IND000000ACB  Gurgaon_Bilaspur_HB (Haryana)   \n",
            "144864       IND000000ACB  Gurgaon_Bilaspur_HB (Haryana)   \n",
            "144865       IND000000ACB  Gurgaon_Bilaspur_HB (Haryana)   \n",
            "144866       IND000000ACB  Gurgaon_Bilaspur_HB (Haryana)   \n",
            "\n",
            "                     od_start_time  ...            cutoff_timestamp  \\\n",
            "144862  2018-09-20 16:24:28.436231  ...         2018-09-20 21:57:20   \n",
            "144863  2018-09-20 16:24:28.436231  ...         2018-09-20 21:31:18   \n",
            "144864  2018-09-20 16:24:28.436231  ...         2018-09-20 21:11:18   \n",
            "144865  2018-09-20 16:24:28.436231  ...         2018-09-20 20:53:19   \n",
            "144866  2018-09-20 16:24:28.436231  ...  2018-09-20 16:24:28.436231   \n",
            "\n",
            "        actual_distance_to_destination  actual_time  osrm_time osrm_distance  \\\n",
            "144862                       45.258278         94.0       60.0       67.9280   \n",
            "144863                       54.092531        120.0       76.0       85.6829   \n",
            "144864                       66.163591        140.0       88.0       97.0933   \n",
            "144865                       73.680667        158.0       98.0      111.2709   \n",
            "144866                       70.039010        426.0       95.0       88.7319   \n",
            "\n",
            "          factor  segment_actual_time  segment_osrm_time  \\\n",
            "144862  1.566667                 12.0               12.0   \n",
            "144863  1.578947                 26.0               21.0   \n",
            "144864  1.590909                 20.0               34.0   \n",
            "144865  1.612245                 17.0               27.0   \n",
            "144866  4.484211                268.0                9.0   \n",
            "\n",
            "        segment_osrm_distance  segment_factor  \n",
            "144862                 8.1858        1.000000  \n",
            "144863                17.3725        1.238095  \n",
            "144864                20.7053        0.588235  \n",
            "144865                18.8885        0.629630  \n",
            "144866                 8.8088       29.777778  \n",
            "\n",
            "[5 rows x 24 columns]\n"
          ]
        }
      ],
      "source": [
        "print(\"\\nLast 5 Rows:\")\n",
        "print(df.tail())"
      ]
    },
    {
      "cell_type": "code",
      "execution_count": 5,
      "id": "68da4f3a-0d2a-4c7e-b1cf-c0826fe1bc6b",
      "metadata": {
        "id": "68da4f3a-0d2a-4c7e-b1cf-c0826fe1bc6b",
        "outputId": "b6ce3dc7-40cc-4900-c9bc-e140527a14c1"
      },
      "outputs": [
        {
          "name": "stdout",
          "output_type": "stream",
          "text": [
            "\n",
            "Dataset shape: (144867, 24)\n"
          ]
        }
      ],
      "source": [
        "print(f\"\\nDataset shape: {df.shape}\")"
      ]
    },
    {
      "cell_type": "code",
      "execution_count": 6,
      "id": "6819b253-c997-440c-b44f-8e9af57f6f4e",
      "metadata": {
        "id": "6819b253-c997-440c-b44f-8e9af57f6f4e",
        "outputId": "e427baea-9c8f-431d-a6ad-b39b8bb224dc"
      },
      "outputs": [
        {
          "name": "stdout",
          "output_type": "stream",
          "text": [
            "\n",
            "Column names:\n",
            "['data', 'trip_creation_time', 'route_schedule_uuid', 'route_type', 'trip_uuid', 'source_center', 'source_name', 'destination_center', 'destination_name', 'od_start_time', 'od_end_time', 'start_scan_to_end_scan', 'is_cutoff', 'cutoff_factor', 'cutoff_timestamp', 'actual_distance_to_destination', 'actual_time', 'osrm_time', 'osrm_distance', 'factor', 'segment_actual_time', 'segment_osrm_time', 'segment_osrm_distance', 'segment_factor']\n"
          ]
        }
      ],
      "source": [
        "print(\"\\nColumn names:\")\n",
        "print(df.columns.tolist())"
      ]
    },
    {
      "cell_type": "code",
      "execution_count": 7,
      "id": "fad5481d-dd1d-4033-8d41-a5424a5cb3a8",
      "metadata": {
        "id": "fad5481d-dd1d-4033-8d41-a5424a5cb3a8",
        "outputId": "f2279cb8-b1b1-4bad-d7ee-c56e6311d20e"
      },
      "outputs": [
        {
          "name": "stdout",
          "output_type": "stream",
          "text": [
            "\n",
            "Data Types:\n",
            "data                               object\n",
            "trip_creation_time                 object\n",
            "route_schedule_uuid                object\n",
            "route_type                         object\n",
            "trip_uuid                          object\n",
            "source_center                      object\n",
            "source_name                        object\n",
            "destination_center                 object\n",
            "destination_name                   object\n",
            "od_start_time                      object\n",
            "od_end_time                        object\n",
            "start_scan_to_end_scan            float64\n",
            "is_cutoff                            bool\n",
            "cutoff_factor                       int64\n",
            "cutoff_timestamp                   object\n",
            "actual_distance_to_destination    float64\n",
            "actual_time                       float64\n",
            "osrm_time                         float64\n",
            "osrm_distance                     float64\n",
            "factor                            float64\n",
            "segment_actual_time               float64\n",
            "segment_osrm_time                 float64\n",
            "segment_osrm_distance             float64\n",
            "segment_factor                    float64\n",
            "dtype: object\n"
          ]
        }
      ],
      "source": [
        "print(\"\\nData Types:\")\n",
        "print(df.dtypes)"
      ]
    },
    {
      "cell_type": "code",
      "execution_count": 8,
      "id": "5e283f9f-9cbd-4437-9ea0-d4e7c12be631",
      "metadata": {
        "id": "5e283f9f-9cbd-4437-9ea0-d4e7c12be631",
        "outputId": "091f49c8-9aad-492a-99fa-2e8b603d7dab"
      },
      "outputs": [
        {
          "name": "stdout",
          "output_type": "stream",
          "text": [
            "\n",
            "Summary Statistics:\n"
          ]
        },
        {
          "data": {
            "text/html": [
              "<div>\n",
              "<style scoped>\n",
              "    .dataframe tbody tr th:only-of-type {\n",
              "        vertical-align: middle;\n",
              "    }\n",
              "\n",
              "    .dataframe tbody tr th {\n",
              "        vertical-align: top;\n",
              "    }\n",
              "\n",
              "    .dataframe thead th {\n",
              "        text-align: right;\n",
              "    }\n",
              "</style>\n",
              "<table border=\"1\" class=\"dataframe\">\n",
              "  <thead>\n",
              "    <tr style=\"text-align: right;\">\n",
              "      <th></th>\n",
              "      <th>start_scan_to_end_scan</th>\n",
              "      <th>cutoff_factor</th>\n",
              "      <th>actual_distance_to_destination</th>\n",
              "      <th>actual_time</th>\n",
              "      <th>osrm_time</th>\n",
              "      <th>osrm_distance</th>\n",
              "      <th>factor</th>\n",
              "      <th>segment_actual_time</th>\n",
              "      <th>segment_osrm_time</th>\n",
              "      <th>segment_osrm_distance</th>\n",
              "      <th>segment_factor</th>\n",
              "    </tr>\n",
              "  </thead>\n",
              "  <tbody>\n",
              "    <tr>\n",
              "      <th>count</th>\n",
              "      <td>144867.000000</td>\n",
              "      <td>144867.000000</td>\n",
              "      <td>144867.000000</td>\n",
              "      <td>144867.000000</td>\n",
              "      <td>144867.000000</td>\n",
              "      <td>144867.000000</td>\n",
              "      <td>144867.000000</td>\n",
              "      <td>144867.000000</td>\n",
              "      <td>144867.000000</td>\n",
              "      <td>144867.00000</td>\n",
              "      <td>144867.000000</td>\n",
              "    </tr>\n",
              "    <tr>\n",
              "      <th>mean</th>\n",
              "      <td>961.262986</td>\n",
              "      <td>232.926567</td>\n",
              "      <td>234.073372</td>\n",
              "      <td>416.927527</td>\n",
              "      <td>213.868272</td>\n",
              "      <td>284.771297</td>\n",
              "      <td>2.120107</td>\n",
              "      <td>36.196111</td>\n",
              "      <td>18.507548</td>\n",
              "      <td>22.82902</td>\n",
              "      <td>2.218368</td>\n",
              "    </tr>\n",
              "    <tr>\n",
              "      <th>std</th>\n",
              "      <td>1037.012769</td>\n",
              "      <td>344.755577</td>\n",
              "      <td>344.990009</td>\n",
              "      <td>598.103621</td>\n",
              "      <td>308.011085</td>\n",
              "      <td>421.119294</td>\n",
              "      <td>1.715421</td>\n",
              "      <td>53.571158</td>\n",
              "      <td>14.775960</td>\n",
              "      <td>17.86066</td>\n",
              "      <td>4.847530</td>\n",
              "    </tr>\n",
              "    <tr>\n",
              "      <th>min</th>\n",
              "      <td>20.000000</td>\n",
              "      <td>9.000000</td>\n",
              "      <td>9.000045</td>\n",
              "      <td>9.000000</td>\n",
              "      <td>6.000000</td>\n",
              "      <td>9.008200</td>\n",
              "      <td>0.144000</td>\n",
              "      <td>-244.000000</td>\n",
              "      <td>0.000000</td>\n",
              "      <td>0.00000</td>\n",
              "      <td>-23.444444</td>\n",
              "    </tr>\n",
              "    <tr>\n",
              "      <th>25%</th>\n",
              "      <td>161.000000</td>\n",
              "      <td>22.000000</td>\n",
              "      <td>23.355874</td>\n",
              "      <td>51.000000</td>\n",
              "      <td>27.000000</td>\n",
              "      <td>29.914700</td>\n",
              "      <td>1.604264</td>\n",
              "      <td>20.000000</td>\n",
              "      <td>11.000000</td>\n",
              "      <td>12.07010</td>\n",
              "      <td>1.347826</td>\n",
              "    </tr>\n",
              "    <tr>\n",
              "      <th>50%</th>\n",
              "      <td>449.000000</td>\n",
              "      <td>66.000000</td>\n",
              "      <td>66.126571</td>\n",
              "      <td>132.000000</td>\n",
              "      <td>64.000000</td>\n",
              "      <td>78.525800</td>\n",
              "      <td>1.857143</td>\n",
              "      <td>29.000000</td>\n",
              "      <td>17.000000</td>\n",
              "      <td>23.51300</td>\n",
              "      <td>1.684211</td>\n",
              "    </tr>\n",
              "    <tr>\n",
              "      <th>75%</th>\n",
              "      <td>1634.000000</td>\n",
              "      <td>286.000000</td>\n",
              "      <td>286.708875</td>\n",
              "      <td>513.000000</td>\n",
              "      <td>257.000000</td>\n",
              "      <td>343.193250</td>\n",
              "      <td>2.213483</td>\n",
              "      <td>40.000000</td>\n",
              "      <td>22.000000</td>\n",
              "      <td>27.81325</td>\n",
              "      <td>2.250000</td>\n",
              "    </tr>\n",
              "    <tr>\n",
              "      <th>max</th>\n",
              "      <td>7898.000000</td>\n",
              "      <td>1927.000000</td>\n",
              "      <td>1927.447705</td>\n",
              "      <td>4532.000000</td>\n",
              "      <td>1686.000000</td>\n",
              "      <td>2326.199100</td>\n",
              "      <td>77.387097</td>\n",
              "      <td>3051.000000</td>\n",
              "      <td>1611.000000</td>\n",
              "      <td>2191.40370</td>\n",
              "      <td>574.250000</td>\n",
              "    </tr>\n",
              "  </tbody>\n",
              "</table>\n",
              "</div>"
            ],
            "text/plain": [
              "       start_scan_to_end_scan  cutoff_factor  actual_distance_to_destination  \\\n",
              "count           144867.000000  144867.000000                   144867.000000   \n",
              "mean               961.262986     232.926567                      234.073372   \n",
              "std               1037.012769     344.755577                      344.990009   \n",
              "min                 20.000000       9.000000                        9.000045   \n",
              "25%                161.000000      22.000000                       23.355874   \n",
              "50%                449.000000      66.000000                       66.126571   \n",
              "75%               1634.000000     286.000000                      286.708875   \n",
              "max               7898.000000    1927.000000                     1927.447705   \n",
              "\n",
              "         actual_time      osrm_time  osrm_distance         factor  \\\n",
              "count  144867.000000  144867.000000  144867.000000  144867.000000   \n",
              "mean      416.927527     213.868272     284.771297       2.120107   \n",
              "std       598.103621     308.011085     421.119294       1.715421   \n",
              "min         9.000000       6.000000       9.008200       0.144000   \n",
              "25%        51.000000      27.000000      29.914700       1.604264   \n",
              "50%       132.000000      64.000000      78.525800       1.857143   \n",
              "75%       513.000000     257.000000     343.193250       2.213483   \n",
              "max      4532.000000    1686.000000    2326.199100      77.387097   \n",
              "\n",
              "       segment_actual_time  segment_osrm_time  segment_osrm_distance  \\\n",
              "count        144867.000000      144867.000000           144867.00000   \n",
              "mean             36.196111          18.507548               22.82902   \n",
              "std              53.571158          14.775960               17.86066   \n",
              "min            -244.000000           0.000000                0.00000   \n",
              "25%              20.000000          11.000000               12.07010   \n",
              "50%              29.000000          17.000000               23.51300   \n",
              "75%              40.000000          22.000000               27.81325   \n",
              "max            3051.000000        1611.000000             2191.40370   \n",
              "\n",
              "       segment_factor  \n",
              "count   144867.000000  \n",
              "mean         2.218368  \n",
              "std          4.847530  \n",
              "min        -23.444444  \n",
              "25%          1.347826  \n",
              "50%          1.684211  \n",
              "75%          2.250000  \n",
              "max        574.250000  "
            ]
          },
          "execution_count": 8,
          "metadata": {},
          "output_type": "execute_result"
        }
      ],
      "source": [
        "# This code generates descriptive statistics for numerical columns only\n",
        "print(\"\\nSummary Statistics:\")\n",
        "df.describe(include=[np.number])\n",
        "\n",
        "# What this code does:\n",
        "# 1. df.describe() - Generates descriptive statistics (count, mean, std, min, 25%, 50%, 75%, max)\n",
        "# 2. include=[np.number] - Only includes numerical columns (int64, float64) in the analysis\n",
        "# 3. Excludes object, datetime, and boolean columns from the statistical summary\n",
        "# 4. Provides insights into data distribution, central tendency, and spread for numerical features"
      ]
    },
    {
      "cell_type": "code",
      "execution_count": 9,
      "id": "772c00e2-112e-4df0-a6ab-0622b7392e7b",
      "metadata": {
        "id": "772c00e2-112e-4df0-a6ab-0622b7392e7b",
        "outputId": "efa7e652-8d01-464f-eed6-e412473f46ef"
      },
      "outputs": [
        {
          "name": "stdout",
          "output_type": "stream",
          "text": [
            "\n",
            "Summary statistics:\n"
          ]
        },
        {
          "data": {
            "text/html": [
              "<div>\n",
              "<style scoped>\n",
              "    .dataframe tbody tr th:only-of-type {\n",
              "        vertical-align: middle;\n",
              "    }\n",
              "\n",
              "    .dataframe tbody tr th {\n",
              "        vertical-align: top;\n",
              "    }\n",
              "\n",
              "    .dataframe thead th {\n",
              "        text-align: right;\n",
              "    }\n",
              "</style>\n",
              "<table border=\"1\" class=\"dataframe\">\n",
              "  <thead>\n",
              "    <tr style=\"text-align: right;\">\n",
              "      <th></th>\n",
              "      <th>data</th>\n",
              "      <th>trip_creation_time</th>\n",
              "      <th>route_schedule_uuid</th>\n",
              "      <th>route_type</th>\n",
              "      <th>trip_uuid</th>\n",
              "      <th>source_center</th>\n",
              "      <th>source_name</th>\n",
              "      <th>destination_center</th>\n",
              "      <th>destination_name</th>\n",
              "      <th>od_start_time</th>\n",
              "      <th>...</th>\n",
              "      <th>cutoff_timestamp</th>\n",
              "      <th>actual_distance_to_destination</th>\n",
              "      <th>actual_time</th>\n",
              "      <th>osrm_time</th>\n",
              "      <th>osrm_distance</th>\n",
              "      <th>factor</th>\n",
              "      <th>segment_actual_time</th>\n",
              "      <th>segment_osrm_time</th>\n",
              "      <th>segment_osrm_distance</th>\n",
              "      <th>segment_factor</th>\n",
              "    </tr>\n",
              "  </thead>\n",
              "  <tbody>\n",
              "    <tr>\n",
              "      <th>count</th>\n",
              "      <td>144867</td>\n",
              "      <td>144867</td>\n",
              "      <td>144867</td>\n",
              "      <td>144867</td>\n",
              "      <td>144867</td>\n",
              "      <td>144867</td>\n",
              "      <td>144574</td>\n",
              "      <td>144867</td>\n",
              "      <td>144606</td>\n",
              "      <td>144867</td>\n",
              "      <td>...</td>\n",
              "      <td>144867</td>\n",
              "      <td>144867.000000</td>\n",
              "      <td>144867.000000</td>\n",
              "      <td>144867.000000</td>\n",
              "      <td>144867.000000</td>\n",
              "      <td>144867.000000</td>\n",
              "      <td>144867.000000</td>\n",
              "      <td>144867.000000</td>\n",
              "      <td>144867.00000</td>\n",
              "      <td>144867.000000</td>\n",
              "    </tr>\n",
              "    <tr>\n",
              "      <th>unique</th>\n",
              "      <td>2</td>\n",
              "      <td>14817</td>\n",
              "      <td>1504</td>\n",
              "      <td>2</td>\n",
              "      <td>14817</td>\n",
              "      <td>1508</td>\n",
              "      <td>1498</td>\n",
              "      <td>1481</td>\n",
              "      <td>1468</td>\n",
              "      <td>26369</td>\n",
              "      <td>...</td>\n",
              "      <td>93180</td>\n",
              "      <td>NaN</td>\n",
              "      <td>NaN</td>\n",
              "      <td>NaN</td>\n",
              "      <td>NaN</td>\n",
              "      <td>NaN</td>\n",
              "      <td>NaN</td>\n",
              "      <td>NaN</td>\n",
              "      <td>NaN</td>\n",
              "      <td>NaN</td>\n",
              "    </tr>\n",
              "    <tr>\n",
              "      <th>top</th>\n",
              "      <td>training</td>\n",
              "      <td>2018-09-22 04:55:04.835022</td>\n",
              "      <td>thanos::sroute:4029a8a2-6c74-4b7e-a6d8-f9e069f...</td>\n",
              "      <td>FTL</td>\n",
              "      <td>trip-153759210483476123</td>\n",
              "      <td>IND000000ACB</td>\n",
              "      <td>Gurgaon_Bilaspur_HB (Haryana)</td>\n",
              "      <td>IND000000ACB</td>\n",
              "      <td>Gurgaon_Bilaspur_HB (Haryana)</td>\n",
              "      <td>2018-09-21 18:37:09.322207</td>\n",
              "      <td>...</td>\n",
              "      <td>2018-09-24 05:19:20</td>\n",
              "      <td>NaN</td>\n",
              "      <td>NaN</td>\n",
              "      <td>NaN</td>\n",
              "      <td>NaN</td>\n",
              "      <td>NaN</td>\n",
              "      <td>NaN</td>\n",
              "      <td>NaN</td>\n",
              "      <td>NaN</td>\n",
              "      <td>NaN</td>\n",
              "    </tr>\n",
              "    <tr>\n",
              "      <th>freq</th>\n",
              "      <td>104858</td>\n",
              "      <td>101</td>\n",
              "      <td>1812</td>\n",
              "      <td>99660</td>\n",
              "      <td>101</td>\n",
              "      <td>23347</td>\n",
              "      <td>23347</td>\n",
              "      <td>15192</td>\n",
              "      <td>15192</td>\n",
              "      <td>81</td>\n",
              "      <td>...</td>\n",
              "      <td>40</td>\n",
              "      <td>NaN</td>\n",
              "      <td>NaN</td>\n",
              "      <td>NaN</td>\n",
              "      <td>NaN</td>\n",
              "      <td>NaN</td>\n",
              "      <td>NaN</td>\n",
              "      <td>NaN</td>\n",
              "      <td>NaN</td>\n",
              "      <td>NaN</td>\n",
              "    </tr>\n",
              "    <tr>\n",
              "      <th>mean</th>\n",
              "      <td>NaN</td>\n",
              "      <td>NaN</td>\n",
              "      <td>NaN</td>\n",
              "      <td>NaN</td>\n",
              "      <td>NaN</td>\n",
              "      <td>NaN</td>\n",
              "      <td>NaN</td>\n",
              "      <td>NaN</td>\n",
              "      <td>NaN</td>\n",
              "      <td>NaN</td>\n",
              "      <td>...</td>\n",
              "      <td>NaN</td>\n",
              "      <td>234.073372</td>\n",
              "      <td>416.927527</td>\n",
              "      <td>213.868272</td>\n",
              "      <td>284.771297</td>\n",
              "      <td>2.120107</td>\n",
              "      <td>36.196111</td>\n",
              "      <td>18.507548</td>\n",
              "      <td>22.82902</td>\n",
              "      <td>2.218368</td>\n",
              "    </tr>\n",
              "    <tr>\n",
              "      <th>std</th>\n",
              "      <td>NaN</td>\n",
              "      <td>NaN</td>\n",
              "      <td>NaN</td>\n",
              "      <td>NaN</td>\n",
              "      <td>NaN</td>\n",
              "      <td>NaN</td>\n",
              "      <td>NaN</td>\n",
              "      <td>NaN</td>\n",
              "      <td>NaN</td>\n",
              "      <td>NaN</td>\n",
              "      <td>...</td>\n",
              "      <td>NaN</td>\n",
              "      <td>344.990009</td>\n",
              "      <td>598.103621</td>\n",
              "      <td>308.011085</td>\n",
              "      <td>421.119294</td>\n",
              "      <td>1.715421</td>\n",
              "      <td>53.571158</td>\n",
              "      <td>14.775960</td>\n",
              "      <td>17.86066</td>\n",
              "      <td>4.847530</td>\n",
              "    </tr>\n",
              "    <tr>\n",
              "      <th>min</th>\n",
              "      <td>NaN</td>\n",
              "      <td>NaN</td>\n",
              "      <td>NaN</td>\n",
              "      <td>NaN</td>\n",
              "      <td>NaN</td>\n",
              "      <td>NaN</td>\n",
              "      <td>NaN</td>\n",
              "      <td>NaN</td>\n",
              "      <td>NaN</td>\n",
              "      <td>NaN</td>\n",
              "      <td>...</td>\n",
              "      <td>NaN</td>\n",
              "      <td>9.000045</td>\n",
              "      <td>9.000000</td>\n",
              "      <td>6.000000</td>\n",
              "      <td>9.008200</td>\n",
              "      <td>0.144000</td>\n",
              "      <td>-244.000000</td>\n",
              "      <td>0.000000</td>\n",
              "      <td>0.00000</td>\n",
              "      <td>-23.444444</td>\n",
              "    </tr>\n",
              "    <tr>\n",
              "      <th>25%</th>\n",
              "      <td>NaN</td>\n",
              "      <td>NaN</td>\n",
              "      <td>NaN</td>\n",
              "      <td>NaN</td>\n",
              "      <td>NaN</td>\n",
              "      <td>NaN</td>\n",
              "      <td>NaN</td>\n",
              "      <td>NaN</td>\n",
              "      <td>NaN</td>\n",
              "      <td>NaN</td>\n",
              "      <td>...</td>\n",
              "      <td>NaN</td>\n",
              "      <td>23.355874</td>\n",
              "      <td>51.000000</td>\n",
              "      <td>27.000000</td>\n",
              "      <td>29.914700</td>\n",
              "      <td>1.604264</td>\n",
              "      <td>20.000000</td>\n",
              "      <td>11.000000</td>\n",
              "      <td>12.07010</td>\n",
              "      <td>1.347826</td>\n",
              "    </tr>\n",
              "    <tr>\n",
              "      <th>50%</th>\n",
              "      <td>NaN</td>\n",
              "      <td>NaN</td>\n",
              "      <td>NaN</td>\n",
              "      <td>NaN</td>\n",
              "      <td>NaN</td>\n",
              "      <td>NaN</td>\n",
              "      <td>NaN</td>\n",
              "      <td>NaN</td>\n",
              "      <td>NaN</td>\n",
              "      <td>NaN</td>\n",
              "      <td>...</td>\n",
              "      <td>NaN</td>\n",
              "      <td>66.126571</td>\n",
              "      <td>132.000000</td>\n",
              "      <td>64.000000</td>\n",
              "      <td>78.525800</td>\n",
              "      <td>1.857143</td>\n",
              "      <td>29.000000</td>\n",
              "      <td>17.000000</td>\n",
              "      <td>23.51300</td>\n",
              "      <td>1.684211</td>\n",
              "    </tr>\n",
              "    <tr>\n",
              "      <th>75%</th>\n",
              "      <td>NaN</td>\n",
              "      <td>NaN</td>\n",
              "      <td>NaN</td>\n",
              "      <td>NaN</td>\n",
              "      <td>NaN</td>\n",
              "      <td>NaN</td>\n",
              "      <td>NaN</td>\n",
              "      <td>NaN</td>\n",
              "      <td>NaN</td>\n",
              "      <td>NaN</td>\n",
              "      <td>...</td>\n",
              "      <td>NaN</td>\n",
              "      <td>286.708875</td>\n",
              "      <td>513.000000</td>\n",
              "      <td>257.000000</td>\n",
              "      <td>343.193250</td>\n",
              "      <td>2.213483</td>\n",
              "      <td>40.000000</td>\n",
              "      <td>22.000000</td>\n",
              "      <td>27.81325</td>\n",
              "      <td>2.250000</td>\n",
              "    </tr>\n",
              "    <tr>\n",
              "      <th>max</th>\n",
              "      <td>NaN</td>\n",
              "      <td>NaN</td>\n",
              "      <td>NaN</td>\n",
              "      <td>NaN</td>\n",
              "      <td>NaN</td>\n",
              "      <td>NaN</td>\n",
              "      <td>NaN</td>\n",
              "      <td>NaN</td>\n",
              "      <td>NaN</td>\n",
              "      <td>NaN</td>\n",
              "      <td>...</td>\n",
              "      <td>NaN</td>\n",
              "      <td>1927.447705</td>\n",
              "      <td>4532.000000</td>\n",
              "      <td>1686.000000</td>\n",
              "      <td>2326.199100</td>\n",
              "      <td>77.387097</td>\n",
              "      <td>3051.000000</td>\n",
              "      <td>1611.000000</td>\n",
              "      <td>2191.40370</td>\n",
              "      <td>574.250000</td>\n",
              "    </tr>\n",
              "  </tbody>\n",
              "</table>\n",
              "<p>11 rows × 24 columns</p>\n",
              "</div>"
            ],
            "text/plain": [
              "            data          trip_creation_time  \\\n",
              "count     144867                      144867   \n",
              "unique         2                       14817   \n",
              "top     training  2018-09-22 04:55:04.835022   \n",
              "freq      104858                         101   \n",
              "mean         NaN                         NaN   \n",
              "std          NaN                         NaN   \n",
              "min          NaN                         NaN   \n",
              "25%          NaN                         NaN   \n",
              "50%          NaN                         NaN   \n",
              "75%          NaN                         NaN   \n",
              "max          NaN                         NaN   \n",
              "\n",
              "                                      route_schedule_uuid route_type  \\\n",
              "count                                              144867     144867   \n",
              "unique                                               1504          2   \n",
              "top     thanos::sroute:4029a8a2-6c74-4b7e-a6d8-f9e069f...        FTL   \n",
              "freq                                                 1812      99660   \n",
              "mean                                                  NaN        NaN   \n",
              "std                                                   NaN        NaN   \n",
              "min                                                   NaN        NaN   \n",
              "25%                                                   NaN        NaN   \n",
              "50%                                                   NaN        NaN   \n",
              "75%                                                   NaN        NaN   \n",
              "max                                                   NaN        NaN   \n",
              "\n",
              "                      trip_uuid source_center                    source_name  \\\n",
              "count                    144867        144867                         144574   \n",
              "unique                    14817          1508                           1498   \n",
              "top     trip-153759210483476123  IND000000ACB  Gurgaon_Bilaspur_HB (Haryana)   \n",
              "freq                        101         23347                          23347   \n",
              "mean                        NaN           NaN                            NaN   \n",
              "std                         NaN           NaN                            NaN   \n",
              "min                         NaN           NaN                            NaN   \n",
              "25%                         NaN           NaN                            NaN   \n",
              "50%                         NaN           NaN                            NaN   \n",
              "75%                         NaN           NaN                            NaN   \n",
              "max                         NaN           NaN                            NaN   \n",
              "\n",
              "       destination_center               destination_name  \\\n",
              "count              144867                         144606   \n",
              "unique               1481                           1468   \n",
              "top          IND000000ACB  Gurgaon_Bilaspur_HB (Haryana)   \n",
              "freq                15192                          15192   \n",
              "mean                  NaN                            NaN   \n",
              "std                   NaN                            NaN   \n",
              "min                   NaN                            NaN   \n",
              "25%                   NaN                            NaN   \n",
              "50%                   NaN                            NaN   \n",
              "75%                   NaN                            NaN   \n",
              "max                   NaN                            NaN   \n",
              "\n",
              "                     od_start_time  ...     cutoff_timestamp  \\\n",
              "count                       144867  ...               144867   \n",
              "unique                       26369  ...                93180   \n",
              "top     2018-09-21 18:37:09.322207  ...  2018-09-24 05:19:20   \n",
              "freq                            81  ...                   40   \n",
              "mean                           NaN  ...                  NaN   \n",
              "std                            NaN  ...                  NaN   \n",
              "min                            NaN  ...                  NaN   \n",
              "25%                            NaN  ...                  NaN   \n",
              "50%                            NaN  ...                  NaN   \n",
              "75%                            NaN  ...                  NaN   \n",
              "max                            NaN  ...                  NaN   \n",
              "\n",
              "        actual_distance_to_destination    actual_time      osrm_time  \\\n",
              "count                    144867.000000  144867.000000  144867.000000   \n",
              "unique                             NaN            NaN            NaN   \n",
              "top                                NaN            NaN            NaN   \n",
              "freq                               NaN            NaN            NaN   \n",
              "mean                        234.073372     416.927527     213.868272   \n",
              "std                         344.990009     598.103621     308.011085   \n",
              "min                           9.000045       9.000000       6.000000   \n",
              "25%                          23.355874      51.000000      27.000000   \n",
              "50%                          66.126571     132.000000      64.000000   \n",
              "75%                         286.708875     513.000000     257.000000   \n",
              "max                        1927.447705    4532.000000    1686.000000   \n",
              "\n",
              "        osrm_distance         factor  segment_actual_time  segment_osrm_time  \\\n",
              "count   144867.000000  144867.000000        144867.000000      144867.000000   \n",
              "unique            NaN            NaN                  NaN                NaN   \n",
              "top               NaN            NaN                  NaN                NaN   \n",
              "freq              NaN            NaN                  NaN                NaN   \n",
              "mean       284.771297       2.120107            36.196111          18.507548   \n",
              "std        421.119294       1.715421            53.571158          14.775960   \n",
              "min          9.008200       0.144000          -244.000000           0.000000   \n",
              "25%         29.914700       1.604264            20.000000          11.000000   \n",
              "50%         78.525800       1.857143            29.000000          17.000000   \n",
              "75%        343.193250       2.213483            40.000000          22.000000   \n",
              "max       2326.199100      77.387097          3051.000000        1611.000000   \n",
              "\n",
              "        segment_osrm_distance  segment_factor  \n",
              "count            144867.00000   144867.000000  \n",
              "unique                    NaN             NaN  \n",
              "top                       NaN             NaN  \n",
              "freq                      NaN             NaN  \n",
              "mean                 22.82902        2.218368  \n",
              "std                  17.86066        4.847530  \n",
              "min                   0.00000      -23.444444  \n",
              "25%                  12.07010        1.347826  \n",
              "50%                  23.51300        1.684211  \n",
              "75%                  27.81325        2.250000  \n",
              "max                2191.40370      574.250000  \n",
              "\n",
              "[11 rows x 24 columns]"
            ]
          },
          "execution_count": 9,
          "metadata": {},
          "output_type": "execute_result"
        }
      ],
      "source": [
        "print(\"\\nSummary statistics:\")\n",
        "df.describe(include='all')"
      ]
    },
    {
      "cell_type": "code",
      "execution_count": 10,
      "id": "910cb7ac-0073-4d8a-a05b-b414f3680673",
      "metadata": {
        "id": "910cb7ac-0073-4d8a-a05b-b414f3680673"
      },
      "outputs": [],
      "source": [
        "# This code counts the number of missing (null) values in each column\n",
        "missing_counts = df.isnull().sum()\n",
        "\n",
        "# What this code does:\n",
        "# 1. df.isnull() - Creates a boolean DataFrame where True = missing value, False = non-missing value\n",
        "# 2. .sum() - Sums up the True values (which count as 1) for each column\n",
        "# 3. Returns a Series with column names as index and count of missing values as values\n",
        "# 4. Example output: column_name: 5 (means 5 missing values in that column)"
      ]
    },
    {
      "cell_type": "code",
      "execution_count": 11,
      "id": "76306fad-8074-456b-abdb-649fd313fce0",
      "metadata": {
        "id": "76306fad-8074-456b-abdb-649fd313fce0"
      },
      "outputs": [],
      "source": [
        "missing_percent = (missing_counts / len(df)) * 100"
      ]
    },
    {
      "cell_type": "code",
      "execution_count": 29,
      "id": "f5070f2a",
      "metadata": {},
      "outputs": [
        {
          "data": {
            "text/plain": [
              "data                              0.000000\n",
              "trip_creation_time                0.000000\n",
              "route_schedule_uuid               0.000000\n",
              "route_type                        0.000000\n",
              "trip_uuid                         0.000000\n",
              "source_center                     0.000000\n",
              "source_name                       0.202254\n",
              "destination_center                0.000000\n",
              "destination_name                  0.180165\n",
              "od_start_time                     0.000000\n",
              "od_end_time                       0.000000\n",
              "start_scan_to_end_scan            0.000000\n",
              "is_cutoff                         0.000000\n",
              "cutoff_factor                     0.000000\n",
              "cutoff_timestamp                  0.000000\n",
              "actual_distance_to_destination    0.000000\n",
              "actual_time                       0.000000\n",
              "osrm_time                         0.000000\n",
              "osrm_distance                     0.000000\n",
              "factor                            0.000000\n",
              "segment_actual_time               0.000000\n",
              "segment_osrm_time                 0.000000\n",
              "segment_osrm_distance             0.000000\n",
              "segment_factor                    0.000000\n",
              "dtype: float64"
            ]
          },
          "execution_count": 29,
          "metadata": {},
          "output_type": "execute_result"
        }
      ],
      "source": [
        "missing_percent"
      ]
    },
    {
      "cell_type": "code",
      "execution_count": 12,
      "id": "98d31235-c54b-4c54-b82b-9dba2cec7775",
      "metadata": {
        "id": "98d31235-c54b-4c54-b82b-9dba2cec7775"
      },
      "outputs": [],
      "source": [
        "missing_summary = pd.DataFrame({\n",
        "    'Missing Values': missing_counts,\n",
        "    'Missing (%)': missing_percent\n",
        "})"
      ]
    },
    {
      "cell_type": "code",
      "execution_count": 13,
      "id": "d306928d-6ab6-4098-88da-a1ac3fa9b76d",
      "metadata": {
        "id": "d306928d-6ab6-4098-88da-a1ac3fa9b76d",
        "outputId": "67c42e86-2a17-4e97-d9a5-3385e040795e"
      },
      "outputs": [
        {
          "name": "stdout",
          "output_type": "stream",
          "text": [
            "Missing Value Summary:\n",
            "                  Missing Values  Missing (%)\n",
            "source_name                  293     0.202254\n",
            "destination_name             261     0.180165\n"
          ]
        }
      ],
      "source": [
        "missing_summary = missing_summary[missing_summary['Missing Values'] > 0]\n",
        "missing_summary = missing_summary.sort_values(by='Missing (%)', ascending=False)\n",
        "\n",
        "\n",
        "print(\"Missing Value Summary:\")\n",
        "print(missing_summary)"
      ]
    },
    {
      "cell_type": "code",
      "execution_count": null,
      "id": "28ecdb42-2f6f-4273-a284-f55ca919e951",
      "metadata": {
        "id": "28ecdb42-2f6f-4273-a284-f55ca919e951",
        "outputId": "d98b6dfe-1e28-469e-84b1-5882cb4b1a1f"
      },
      "outputs": [
        {
          "name": "stdout",
          "output_type": "stream",
          "text": [
            "\n",
            "Suggested Strategies for Handling Missing Data:\n",
            " - source_name has 0.20% missing. Consider imputing with mean/median/mode.\n",
            " - destination_name has 0.18% missing. Consider imputing with mean/median/mode.\n"
          ]
        }
      ],
      "source": [
        "print(\"\\nSuggested Strategies for Handling Missing Data:\")\n",
        "for column, percent in missing_percent.items():\n",
        "    if percent > 50:\n",
        "        print(f\" - {column} has {percent:.2f}% missing. Consider dropping this column.\")\n",
        "    elif 10 < percent <= 50:\n",
        "        print(f\" - {column} has {percent:.2f}% missing. Consider imputing or FLAGGING missing values.\")\n",
        "    elif 0 < percent <= 10:\n",
        "        print(f\" - {column} has {percent:.2f}% missing. Consider imputing with mean/median/mode.\")\n",
        "\n",
        "# What does \"FLAGGING missing values\" mean?\n",
        "# \n",
        "# Flagging missing values means creating a new binary indicator column to track \n",
        "# which rows had missing values before imputation. This preserves information \n",
        "# about the missingness pattern which can be valuable for ML models.\n",
        "#\n",
        "# Example of flagging:\n",
        "# Original column: [10, NaN, 15, NaN, 20]\n",
        "# After flagging and imputing:\n",
        "# - Original column becomes: [10, 12.5, 15, 12.5, 20] (imputed with mean)\n",
        "# - New flag column: [0, 1, 0, 1, 0] (1 = was missing, 0 = not missing)\n",
        "#\n",
        "# Benefits:\n",
        "# 1. Preserves information about which values were originally missing\n",
        "# 2. Allows ML models to learn patterns related to missingness\n",
        "# 3. Can improve model performance if missingness is informative\n",
        "# 4. Helps in understanding data quality issues"
      ]
    },
    {
      "cell_type": "code",
      "execution_count": null,
      "id": "e97d3548-c9ca-4bb0-89cc-9ff53aa92c41",
      "metadata": {
        "id": "e97d3548-c9ca-4bb0-89cc-9ff53aa92c41"
      },
      "outputs": [],
      "source": [
        "# This code converts specified columns from string/object type to datetime format\n",
        "datetime_cols = ['trip_creation_time', 'od_start_time', 'od_end_time', 'cutoff_timestamp']\n",
        "\n",
        "for col in datetime_cols:\n",
        "    if col in df.columns:\n",
        "        df[col] = pd.to_datetime(df[col], errors='coerce')\n",
        "\n",
        "# What this code does:\n",
        "# 1. datetime_cols - List of column names that should contain datetime data\n",
        "# 2. for col in datetime_cols - Loops through each specified datetime column\n",
        "# 3. if col in df.columns - Checks if the column actually exists in the DataFrame\n",
        "# 4. pd.to_datetime() - Converts string/object data to pandas datetime format\n",
        "# 5. errors='coerce' - If conversion fails, replace with NaT (Not a Time) instead of raising error\n",
        "#\n",
        "# Purpose:\n",
        "# - Converts text-based dates/times to proper datetime objects\n",
        "# - Enables datetime operations (filtering by date, extracting hour/day/month, etc.)\n",
        "# - Handles invalid date formats gracefully by converting them to NaT\n",
        "# - Essential for time-series analysis and feature engineering\n",
        "#\n",
        "# Example transformation:\n",
        "# Before: '2023-07-15 14:30:00' (string)\n",
        "# After:  2023-07-15 14:30:00 (datetime object)"
      ]
    },
    {
      "cell_type": "code",
      "execution_count": 16,
      "id": "6752bf95-804b-4bee-8ba3-d718d4e873d0",
      "metadata": {
        "id": "6752bf95-804b-4bee-8ba3-d718d4e873d0",
        "outputId": "1bb3213c-ab37-418d-fd7c-4aae5cc92477"
      },
      "outputs": [
        {
          "name": "stdout",
          "output_type": "stream",
          "text": [
            "data                                      object\n",
            "trip_creation_time                datetime64[ns]\n",
            "route_schedule_uuid                       object\n",
            "route_type                                object\n",
            "trip_uuid                                 object\n",
            "source_center                             object\n",
            "source_name                               object\n",
            "destination_center                        object\n",
            "destination_name                          object\n",
            "od_start_time                     datetime64[ns]\n",
            "od_end_time                       datetime64[ns]\n",
            "start_scan_to_end_scan                   float64\n",
            "is_cutoff                                   bool\n",
            "cutoff_factor                              int64\n",
            "cutoff_timestamp                  datetime64[ns]\n",
            "actual_distance_to_destination           float64\n",
            "actual_time                              float64\n",
            "osrm_time                                float64\n",
            "osrm_distance                            float64\n",
            "factor                                   float64\n",
            "segment_actual_time                      float64\n",
            "segment_osrm_time                        float64\n",
            "segment_osrm_distance                    float64\n",
            "segment_factor                           float64\n",
            "dtype: object\n"
          ]
        }
      ],
      "source": [
        "for col in df.select_dtypes(include='object').columns:\n",
        "    try:\n",
        "        df[col] = pd.to_numeric(df[col], errors='raise')\n",
        "        print(f\"Converted '{col}' to numeric.\")\n",
        "    except:\n",
        "        pass\n",
        "\n",
        "\n",
        "print(df.dtypes)"
      ]
    },
    {
      "cell_type": "code",
      "execution_count": 17,
      "id": "d499af90-3417-4e9a-93f7-c12495bb20c8",
      "metadata": {
        "id": "d499af90-3417-4e9a-93f7-c12495bb20c8",
        "outputId": "feafc30b-16cc-4e2c-e9c1-8c445aecc27f"
      },
      "outputs": [
        {
          "name": "stdout",
          "output_type": "stream",
          "text": [
            "Number of duplicate rows: 0\n"
          ]
        }
      ],
      "source": [
        "duplicate_rows = df[df.duplicated()]\n",
        "print(f\"Number of duplicate rows: {duplicate_rows.shape[0]}\")"
      ]
    },
    {
      "cell_type": "code",
      "execution_count": 18,
      "id": "c23bd71c-86c1-412b-91f7-95f184aa2010",
      "metadata": {
        "id": "c23bd71c-86c1-412b-91f7-95f184aa2010",
        "outputId": "97da8007-8578-485a-952e-4e11557c167b"
      },
      "outputs": [
        {
          "name": "stdout",
          "output_type": "stream",
          "text": [
            "Shape after removing duplicates: (144867, 24)\n"
          ]
        }
      ],
      "source": [
        "df = df.drop_duplicates()\n",
        "print(f\"Shape after removing duplicates: {df.shape}\")"
      ]
    },
    {
      "cell_type": "code",
      "execution_count": 19,
      "id": "fb0a9883-9795-4f30-adab-cbe04b879d7b",
      "metadata": {
        "id": "fb0a9883-9795-4f30-adab-cbe04b879d7b",
        "outputId": "894bf917-46c4-4a57-f013-2ac11c082fb7"
      },
      "outputs": [
        {
          "name": "stdout",
          "output_type": "stream",
          "text": [
            "Column 'trip_uuid' - Unique values: 14817 / Total rows: 144867\n",
            "'trip_uuid' has duplicates.\n",
            "Column 'route_schedule_uuid' - Unique values: 1504 / Total rows: 144867\n",
            "'route_schedule_uuid' has duplicates.\n"
          ]
        }
      ],
      "source": [
        "unique_cols = ['trip_uuid', 'route_schedule_uuid']  # add more column names if needed\n",
        "\n",
        "for col in unique_cols:\n",
        "    if col in df.columns:\n",
        "        total = len(df)\n",
        "        unique_vals = df[col].nunique()\n",
        "        print(f\"Column '{col}' - Unique values: {unique_vals} / Total rows: {total}\")\n",
        "        if unique_vals == total:\n",
        "            print(f\"'{col}' is unique for each row.\")\n",
        "        else:\n",
        "            print(f\"'{col}' has duplicates.\")\n",
        "    else:\n",
        "        print(f\"Column '{col}' not found in dataframe.\")"
      ]
    },
    {
      "cell_type": "code",
      "execution_count": 20,
      "id": "38936cdd-0756-4c3a-bc33-992908afbb7b",
      "metadata": {
        "id": "38936cdd-0756-4c3a-bc33-992908afbb7b",
        "outputId": "64bf17f3-01f6-4717-8c3c-10214d00e718"
      },
      "outputs": [
        {
          "name": "stdout",
          "output_type": "stream",
          "text": [
            "Feature Categorization Summary:\n",
            "Categorical columns (8): ['data', 'route_schedule_uuid', 'route_type', 'trip_uuid', 'source_center', 'source_name', 'destination_center', 'destination_name']\n",
            "Numerical columns (11): ['start_scan_to_end_scan', 'cutoff_factor', 'actual_distance_to_destination', 'actual_time', 'osrm_time', 'osrm_distance', 'factor', 'segment_actual_time', 'segment_osrm_time', 'segment_osrm_distance', 'segment_factor']\n",
            "Datetime columns (4): ['trip_creation_time', 'od_start_time', 'od_end_time', 'cutoff_timestamp']\n",
            "Boolean columns (1): ['is_cutoff']\n"
          ]
        }
      ],
      "source": [
        "categorical_cols = df.select_dtypes(include=['object']).columns.tolist()\n",
        "numerical_cols = df.select_dtypes(include=['int64', 'float64']).columns.tolist()\n",
        "datetime_cols = df.select_dtypes(include=['datetime64[ns]', 'datetime64']).columns.tolist()\n",
        "boolean_cols = df.select_dtypes(include=['bool']).columns.tolist()\n",
        "print(\"Feature Categorization Summary:\")\n",
        "print(f\"Categorical columns ({len(categorical_cols)}): {categorical_cols}\")\n",
        "print(f\"Numerical columns ({len(numerical_cols)}): {numerical_cols}\")\n",
        "print(f\"Datetime columns ({len(datetime_cols)}): {datetime_cols}\")\n",
        "print(f\"Boolean columns ({len(boolean_cols)}): {boolean_cols}\")"
      ]
    },
    {
      "cell_type": "code",
      "execution_count": 21,
      "id": "de3a15b1-3ddb-4b0e-82aa-e5c5f01c88a4",
      "metadata": {
        "id": "de3a15b1-3ddb-4b0e-82aa-e5c5f01c88a4"
      },
      "outputs": [],
      "source": [
        "columns = ['actual_time', 'osrm_time', 'actual_distance_to_destination', 'segment_actual_time']"
      ]
    },
    {
      "cell_type": "code",
      "execution_count": 22,
      "id": "525f337f-6316-430a-9fed-5939cbf92d1d",
      "metadata": {
        "id": "525f337f-6316-430a-9fed-5939cbf92d1d"
      },
      "outputs": [],
      "source": [
        "def detect_outliers_iqr(data):\n",
        "    Q1 = data.quantile(0.25)\n",
        "    Q3 = data.quantile(0.75)\n",
        "    IQR = Q3 - Q1\n",
        "    lower_bound = Q1 - 1.5 * IQR\n",
        "    upper_bound = Q3 + 1.5 * IQR\n",
        "    return (data < lower_bound) | (data > upper_bound)"
      ]
    },
    {
      "cell_type": "code",
      "execution_count": 23,
      "id": "4e4e434f-1995-498e-b83b-a468d752c2f3",
      "metadata": {
        "id": "4e4e434f-1995-498e-b83b-a468d752c2f3",
        "outputId": "ef2b298d-f042-4321-b836-a0bb3b98624c"
      },
      "outputs": [
        {
          "name": "stdout",
          "output_type": "stream",
          "text": [
            "Outliers detected in 'actual_time': 16633\n",
            "Outliers detected in 'osrm_time': 17603\n",
            "Outliers detected in 'actual_distance_to_destination': 17992\n",
            "Outliers detected in 'segment_actual_time': 9298\n"
          ]
        }
      ],
      "source": [
        "for col in columns:\n",
        "    if col in df.columns:\n",
        "        outliers = detect_outliers_iqr(df[col].dropna())\n",
        "        print(f\"Outliers detected in '{col}': {outliers.sum()}\")"
      ]
    },
    {
      "cell_type": "code",
      "execution_count": 24,
      "id": "ec7cb8c7-e906-4c8e-8958-4af642306723",
      "metadata": {
        "id": "ec7cb8c7-e906-4c8e-8958-4af642306723"
      },
      "outputs": [],
      "source": [
        "df_clean = df.dropna()\n",
        "df_clean.to_csv(\"clean_dataset.csv\", index=False)"
      ]
    },
    {
      "cell_type": "code",
      "execution_count": 25,
      "id": "be47e821-7f17-40f4-a956-d03eeaa8ab88",
      "metadata": {
        "id": "be47e821-7f17-40f4-a956-d03eeaa8ab88",
        "outputId": "2c4f95d5-fe79-468a-d375-bfd1985fb0f6"
      },
      "outputs": [
        {
          "data": {
            "image/png": "[encoded data removed]",
            "text/plain": [
              "<Figure size 1200x800 with 4 Axes>"
            ]
          },
          "metadata": {},
          "output_type": "display_data"
        }
      ],
      "source": [
        "plt.figure(figsize=(12, 8))\n",
        "for i, col in enumerate(columns, 1):\n",
        "    if col in df.columns:\n",
        "        plt.subplot(2, 2, i)\n",
        "        df.boxplot(column=col)\n",
        "        plt.title(f'Boxplot of {col}')\n",
        "plt.tight_layout()\n",
        "plt.show()"
      ]
    },
    {
      "cell_type": "code",
      "execution_count": 26,
      "id": "2422b0b6-5bc7-4b1d-85fd-0fcf59face02",
      "metadata": {
        "id": "2422b0b6-5bc7-4b1d-85fd-0fcf59face02"
      },
      "outputs": [],
      "source": [
        "column_descriptions = {\n",
        "    'trip_uuid': 'Unique trip ID',\n",
        "    'route_schedule_uuid': 'Identifier for route schedule',\n",
        "    'actual_time': 'Time taken for the trip in seconds',\n",
        "    'osrm_time': 'Estimated time by OSRM routing engine',\n",
        "    'actual_distance_to_destination': 'Actual distance in meters to destination',\n",
        "    'segment_actual_time': 'Time for a specific segment of the trip',\n",
        "\n",
        "}"
      ]
    },
    {
      "cell_type": "code",
      "execution_count": 27,
      "id": "7600da00-8f3e-4644-ac87-087a7caab9c3",
      "metadata": {
        "id": "7600da00-8f3e-4644-ac87-087a7caab9c3"
      },
      "outputs": [],
      "source": [
        "column_data = []\n",
        "\n",
        "for col in df.columns:\n",
        "    description = column_descriptions.get(col, \"No description available\")\n",
        "    dtype = str(df[col].dtype)\n",
        "    missing_pct = round(df[col].isna().mean() * 100, 2)\n",
        "\n",
        "    remarks = \"\"\n",
        "    if df[col].duplicated().any():\n",
        "        remarks = \"Check for duplicates\"\n",
        "    if \"time\" in col.lower() or \"date\" in col.lower():\n",
        "        remarks += \" Converted to datetime\" if \"datetime\" in dtype else \"\"\n",
        "    if \"distance\" in col.lower():\n",
        "        remarks += \" Check unit (meters/kilometers)\"\n",
        "\n",
        "    column_data.append([col, description, dtype, missing_pct, remarks.strip()])"
      ]
    },
    {
      "cell_type": "code",
      "execution_count": 28,
      "id": "9dc5b326-27e4-4895-93ea-fbe158847b2c",
      "metadata": {
        "id": "9dc5b326-27e4-4895-93ea-fbe158847b2c",
        "outputId": "e76a99df-cba1-4be3-b646-997f382bfb42"
      },
      "outputs": [
        {
          "name": "stdout",
          "output_type": "stream",
          "text": [
            " 'column_dictionary.csv' created successfully.\n"
          ]
        }
      ],
      "source": [
        "dictionary_df = pd.DataFrame(column_data, columns=[\n",
        "    \"Column Name\", \"Description\", \"Data Type\", \"Missing %\", \"Transformation/Remarks\"\n",
        "])\n",
        "\n",
        "\n",
        "dictionary_df.to_csv(\"column_dictionary.csv\", index=False)\n",
        "\n",
        "print(\" 'column_dictionary.csv' created successfully.\")"
      ]
    },
    {
      "cell_type": "code",
      "execution_count": null,
      "id": "b62f9b06-adc2-4880-98c2-0f3c972a1e73",
      "metadata": {
        "id": "b62f9b06-adc2-4880-98c2-0f3c972a1e73"
      },
      "outputs": [],
      "source": []
    }
  ],
  "metadata": {
    "colab": {
      "provenance": []
    },
    "kernelspec": {
      "display_name": "Python 3",
      "language": "python",
      "name": "python3"
    },
    "language_info": {
      "codemirror_mode": {
        "name": "ipython",
        "version": 3
      },
      "file_extension": ".py",
      "mimetype": "text/x-python",
      "name": "python",
      "nbconvert_exporter": "python",
      "pygments_lexer": "ipython3",
      "version": "3.10.16"
    }
  },
  "nbformat": 4,
  "nbformat_minor": 5
}
